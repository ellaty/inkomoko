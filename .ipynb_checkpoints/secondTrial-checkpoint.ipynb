{
 "cells": [
  {
   "cell_type": "code",
   "execution_count": 4,
   "id": "c98f7fa6",
   "metadata": {},
   "outputs": [],
   "source": [
    "import pandas as pd\n",
    "import json\n",
    "import csv\n",
    "from google.oauth2 import service_account\n",
    "import pygsheets"
   ]
  },
  {
   "cell_type": "code",
   "execution_count": 5,
   "id": "d395f0df",
   "metadata": {},
   "outputs": [],
   "source": [
    "with open('technicalexam-350011-325cbe659ff4.json') as source:\n",
    "    info = json.load(source)\n",
    "credentials = service_account.Credentials.from_service_account_info(info)\n",
    "\n",
    "client = pygsheets.authorize(service_account_file='technicalexam-350011-325cbe659ff4.json')\n"
   ]
  },
  {
   "cell_type": "code",
   "execution_count": 6,
   "id": "33b58915",
   "metadata": {},
   "outputs": [
    {
     "ename": "HttpError",
     "evalue": "<HttpError 400 when requesting https://sheets.googleapis.com/v4/spreadsheets/1EPcbQBpPrh7LOoeu4Rv3H4IDpxpQljGI?fields=%2A&includeGridData=true&alt=json returned \"This operation is not supported for this document\". Details: \"This operation is not supported for this document\">",
     "output_type": "error",
     "traceback": [
      "\u001b[1;31m---------------------------------------------------------------------------\u001b[0m",
      "\u001b[1;31mHttpError\u001b[0m                                 Traceback (most recent call last)",
      "Input \u001b[1;32mIn [6]\u001b[0m, in \u001b[0;36m<cell line: 3>\u001b[1;34m()\u001b[0m\n\u001b[0;32m      1\u001b[0m \u001b[38;5;66;03m#accessing the first sheet , baseline\u001b[39;00m\n\u001b[0;32m      2\u001b[0m spreadsheet_url \u001b[38;5;241m=\u001b[39m \u001b[38;5;124m'\u001b[39m\u001b[38;5;124mhttps://docs.google.com/spreadsheets/d/1EPcbQBpPrh7LOoeu4Rv3H4IDpxpQljGI/edit#gid=426669453\u001b[39m\u001b[38;5;124m'\u001b[39m\n\u001b[1;32m----> 3\u001b[0m data \u001b[38;5;241m=\u001b[39m \u001b[43mclient\u001b[49m\u001b[38;5;241;43m.\u001b[39;49m\u001b[43msheet\u001b[49m\u001b[38;5;241;43m.\u001b[39;49m\u001b[43mget\u001b[49m\u001b[43m(\u001b[49m\u001b[38;5;124;43m'\u001b[39;49m\u001b[38;5;124;43m1EPcbQBpPrh7LOoeu4Rv3H4IDpxpQljGI\u001b[39;49m\u001b[38;5;124;43m'\u001b[39;49m\u001b[43m)\u001b[49m\n",
      "File \u001b[1;32mc:\\users\\dolphix people's\\appdata\\local\\programs\\python\\python39\\lib\\site-packages\\pygsheets\\sheet.py:164\u001b[0m, in \u001b[0;36mSheetAPIWrapper.get\u001b[1;34m(self, spreadsheet_id, **kwargs)\u001b[0m\n\u001b[0;32m    162\u001b[0m \u001b[38;5;28;01mif\u001b[39;00m \u001b[38;5;124m'\u001b[39m\u001b[38;5;124mincludeGridData\u001b[39m\u001b[38;5;124m'\u001b[39m \u001b[38;5;129;01mnot\u001b[39;00m \u001b[38;5;129;01min\u001b[39;00m kwargs:\n\u001b[0;32m    163\u001b[0m     kwargs[\u001b[38;5;124m'\u001b[39m\u001b[38;5;124mincludeGridData\u001b[39m\u001b[38;5;124m'\u001b[39m] \u001b[38;5;241m=\u001b[39m \u001b[38;5;28;01mTrue\u001b[39;00m\n\u001b[1;32m--> 164\u001b[0m \u001b[38;5;28;01mreturn\u001b[39;00m \u001b[38;5;28;43mself\u001b[39;49m\u001b[38;5;241;43m.\u001b[39;49m\u001b[43m_execute_requests\u001b[49m\u001b[43m(\u001b[49m\u001b[38;5;28;43mself\u001b[39;49m\u001b[38;5;241;43m.\u001b[39;49m\u001b[43mservice\u001b[49m\u001b[38;5;241;43m.\u001b[39;49m\u001b[43mspreadsheets\u001b[49m\u001b[43m(\u001b[49m\u001b[43m)\u001b[49m\u001b[38;5;241;43m.\u001b[39;49m\u001b[43mget\u001b[49m\u001b[43m(\u001b[49m\u001b[43mspreadsheetId\u001b[49m\u001b[38;5;241;43m=\u001b[39;49m\u001b[43mspreadsheet_id\u001b[49m\u001b[43m,\u001b[49m\u001b[43m \u001b[49m\u001b[38;5;241;43m*\u001b[39;49m\u001b[38;5;241;43m*\u001b[39;49m\u001b[43mkwargs\u001b[49m\u001b[43m)\u001b[49m\u001b[43m)\u001b[49m\n",
      "File \u001b[1;32mc:\\users\\dolphix people's\\appdata\\local\\programs\\python\\python39\\lib\\site-packages\\pygsheets\\sheet.py:495\u001b[0m, in \u001b[0;36mSheetAPIWrapper._execute_requests\u001b[1;34m(self, request)\u001b[0m\n\u001b[0;32m    487\u001b[0m \u001b[38;5;124;03m\"\"\"Execute a request to the Google Sheets API v4.\u001b[39;00m\n\u001b[0;32m    488\u001b[0m \n\u001b[0;32m    489\u001b[0m \u001b[38;5;124;03mWhen the API returns a 429 Error will sleep for the specified time and try again.\u001b[39;00m\n\u001b[1;32m   (...)\u001b[0m\n\u001b[0;32m    492\u001b[0m \u001b[38;5;124;03m:return:            Response\u001b[39;00m\n\u001b[0;32m    493\u001b[0m \u001b[38;5;124;03m\"\"\"\u001b[39;00m\n\u001b[0;32m    494\u001b[0m \u001b[38;5;28;01mtry\u001b[39;00m:\n\u001b[1;32m--> 495\u001b[0m     response \u001b[38;5;241m=\u001b[39m \u001b[43mrequest\u001b[49m\u001b[38;5;241;43m.\u001b[39;49m\u001b[43mexecute\u001b[49m\u001b[43m(\u001b[49m\u001b[43mnum_retries\u001b[49m\u001b[38;5;241;43m=\u001b[39;49m\u001b[38;5;28;43mself\u001b[39;49m\u001b[38;5;241;43m.\u001b[39;49m\u001b[43mretries\u001b[49m\u001b[43m)\u001b[49m\n\u001b[0;32m    496\u001b[0m \u001b[38;5;28;01mexcept\u001b[39;00m HttpError \u001b[38;5;28;01mas\u001b[39;00m error:\n\u001b[0;32m    497\u001b[0m     \u001b[38;5;28;01mif\u001b[39;00m error\u001b[38;5;241m.\u001b[39mresp[\u001b[38;5;124m'\u001b[39m\u001b[38;5;124mstatus\u001b[39m\u001b[38;5;124m'\u001b[39m] \u001b[38;5;241m==\u001b[39m \u001b[38;5;124m'\u001b[39m\u001b[38;5;124m429\u001b[39m\u001b[38;5;124m'\u001b[39m \u001b[38;5;129;01mand\u001b[39;00m \u001b[38;5;28mself\u001b[39m\u001b[38;5;241m.\u001b[39mcheck:\n",
      "File \u001b[1;32mc:\\users\\dolphix people's\\appdata\\local\\programs\\python\\python39\\lib\\site-packages\\googleapiclient\\_helpers.py:131\u001b[0m, in \u001b[0;36mpositional.<locals>.positional_decorator.<locals>.positional_wrapper\u001b[1;34m(*args, **kwargs)\u001b[0m\n\u001b[0;32m    129\u001b[0m     \u001b[38;5;28;01melif\u001b[39;00m positional_parameters_enforcement \u001b[38;5;241m==\u001b[39m POSITIONAL_WARNING:\n\u001b[0;32m    130\u001b[0m         logger\u001b[38;5;241m.\u001b[39mwarning(message)\n\u001b[1;32m--> 131\u001b[0m \u001b[38;5;28;01mreturn\u001b[39;00m wrapped(\u001b[38;5;241m*\u001b[39margs, \u001b[38;5;241m*\u001b[39m\u001b[38;5;241m*\u001b[39mkwargs)\n",
      "File \u001b[1;32mc:\\users\\dolphix people's\\appdata\\local\\programs\\python\\python39\\lib\\site-packages\\googleapiclient\\http.py:937\u001b[0m, in \u001b[0;36mHttpRequest.execute\u001b[1;34m(self, http, num_retries)\u001b[0m\n\u001b[0;32m    935\u001b[0m     callback(resp)\n\u001b[0;32m    936\u001b[0m \u001b[38;5;28;01mif\u001b[39;00m resp\u001b[38;5;241m.\u001b[39mstatus \u001b[38;5;241m>\u001b[39m\u001b[38;5;241m=\u001b[39m \u001b[38;5;241m300\u001b[39m:\n\u001b[1;32m--> 937\u001b[0m     \u001b[38;5;28;01mraise\u001b[39;00m HttpError(resp, content, uri\u001b[38;5;241m=\u001b[39m\u001b[38;5;28mself\u001b[39m\u001b[38;5;241m.\u001b[39muri)\n\u001b[0;32m    938\u001b[0m \u001b[38;5;28;01mreturn\u001b[39;00m \u001b[38;5;28mself\u001b[39m\u001b[38;5;241m.\u001b[39mpostproc(resp, content)\n",
      "\u001b[1;31mHttpError\u001b[0m: <HttpError 400 when requesting https://sheets.googleapis.com/v4/spreadsheets/1EPcbQBpPrh7LOoeu4Rv3H4IDpxpQljGI?fields=%2A&includeGridData=true&alt=json returned \"This operation is not supported for this document\". Details: \"This operation is not supported for this document\">"
     ]
    }
   ],
   "source": [
    "#accessing the first sheet , baseline\n",
    "spreadsheet_url = 'https://docs.google.com/spreadsheets/d/1UQ516qtGkJLxb8cBH8Up5314XXmQcsNDyMGUPYfdzzw/edit#gid=426669453'\n",
    "data = client.sheet.get('1UQ516qtGkJLxb8cBH8Up5314XXmQcsNDyMGUPYfdzzw')"
   ]
  },
  {
   "cell_type": "code",
   "execution_count": null,
   "id": "ec40e642",
   "metadata": {},
   "outputs": [],
   "source": []
  }
 ],
 "metadata": {
  "kernelspec": {
   "display_name": "Python 3 (ipykernel)",
   "language": "python",
   "name": "python3"
  },
  "language_info": {
   "codemirror_mode": {
    "name": "ipython",
    "version": 3
   },
   "file_extension": ".py",
   "mimetype": "text/x-python",
   "name": "python",
   "nbconvert_exporter": "python",
   "pygments_lexer": "ipython3",
   "version": "3.9.4"
  }
 },
 "nbformat": 4,
 "nbformat_minor": 5
}
